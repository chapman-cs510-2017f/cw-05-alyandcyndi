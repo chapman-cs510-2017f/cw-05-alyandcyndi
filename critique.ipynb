{
 "cells": [
  {
   "cell_type": "raw",
   "metadata": {
    "collapsed": false
   },
   "source": [
    "Name: Aly Baughman and Cynthia Parks|Student ID:1923165, 2303535|Email:baugh107@mail.chapman.edu, cparks@chapman.edu|Course: CS510 Fall 2017 Assignment: Classwork 5"
   ]
  },
  {
   "cell_type": "code",
   "execution_count": 0,
   "metadata": {
    "collapsed": false
   },
   "outputs": [
   ],
   "source": [
    "import numpy as np    # Numeric python\n",
    "import sympy as sp    # Symbolic python\n",
    "import pandas as pd   # Data processing python"
   ]
  },
  {
   "cell_type": "markdown",
   "metadata": {
    "collapsed": false
   },
   "source": [
    "### Critiques of Aly's Code###\n",
    "The organization of Aly's code was clear and done well.  They had docstrings for their functions but could have added a bit more detail.  The primes function was clear and easy to follow.  The algorithm makes sense and is a clear way to find prime numbers in a list.  Their Jupyter notebook was very well designed and clearly labeled with discussions of how the functions worked.  "
   ]
  },
  {
   "cell_type": "markdown",
   "metadata": {
    "collapsed": false
   },
   "source": [
    "### Critiques of Cindy's Code ###\n",
    "\n",
    "The organization of Cindy's code was great. It was formatted very well, with a very detailed docstrings section for the functions. I was able to follow along with the algorithm for primes. The only issue was that the generator did not run correctly. I really liked how her and her partner added error statements to the main function at the end of their primes.py code. The Jupyter notebook was very clear and easy to follow. The format was very nice and I liked how they implemented code portions in the Jupyter notebook. "
   ]
  },
  {
   "cell_type": "code",
   "execution_count": 0,
   "metadata": {
    "collapsed": false
   },
   "outputs": [
   ],
   "source": [
   ]
  }
 ],
 "metadata": {
  "kernelspec": {
   "display_name": "Python 3 (Ubuntu Linux)",
   "language": "python",
   "name": "python3"
  },
  "language_info": {
   "codemirror_mode": {
    "name": "ipython",
    "version": 3
   },
   "file_extension": ".py",
   "mimetype": "text/x-python",
   "name": "python",
   "nbconvert_exporter": "python",
   "pygments_lexer": "ipython3",
   "version": "3.5.2"
  }
 },
 "nbformat": 4,
 "nbformat_minor": 0
}
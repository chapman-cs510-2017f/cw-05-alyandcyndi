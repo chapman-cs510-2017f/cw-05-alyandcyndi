{
 "cells": [
  {
   "cell_type": "markdown",
   "metadata": {
    "collapsed": false
   },
   "source": [
    "Name: Aly Baughman, Cynthia Parks\n",
    "\n",
    "Student ID: 1923165, 2303535\n",
    "\n",
    "Email: baugh107@mail.chapman.edu, cparks@chapman.edu\n",
    "\n",
    "Course: CS510 Fall 2017\n",
    "\n",
    "Assignment: Classwork 5"
   ]
  },
  {
   "cell_type": "code",
   "execution_count": 0,
   "metadata": {
    "collapsed": false
   },
   "outputs": [
   ],
   "source": [
    "import cplane\n",
    "from abscplane import AbsComplexPlane"
   ]
  },
  {
   "cell_type": "markdown",
   "metadata": {
    "collapsed": false
   },
   "source": [
    "### Abstract Base Class\n",
    "\n",
    "An abstract class is used by a programmer to extract information from and implement it in their own code. It is helpful although it is not used on its own because it causes programmers to have good design structure to their code. "
   ]
  },
  {
   "cell_type": "markdown",
   "metadata": {
    "collapsed": false
   },
   "source": [
    "### Complex Plane Class\n",
    "\n",
    "A complex plane is a 2D grid composed of complex numbers. A complex plane class is what is used for creation and transformation of a complex plane. It can also be used to refresh the complex plane once it is created. \n"
   ]
  },
  {
   "cell_type": "markdown",
   "metadata": {
    "collapsed": false
   },
   "source": [
    "```python\n",
    "class ListComplexPlane(AbsComplexPlane):\n",
    "    def __init__(self, xmin, xmax, xlen, ymin, ymax, ylen):\n",
    "        self.xmin = float(xmin)\n",
    "        self.xmax = float(xmax)\n",
    "        self.xlen = int(xlen)\n",
    "        self.ymin = float(ymin)\n",
    "        self.ymax = float(ymax)\n",
    "        self.ylen = int(ylen)\n",
    "        self.plane = self.__create_plane(self.xmin, self.xmax, self.xlen, self.ymin, self.ymax, self.ylen)\n",
    "        self.fs = []\n",
    "        \n",
    "```"
   ]
  },
  {
   "cell_type": "markdown",
   "metadata": {
    "collapsed": false
   },
   "source": [
    "### Grid Structure\n",
    "\n",
    "This function creates a list of lists that contains the points for the complex plane.  It does so by starting at the minimum point, and moves towards the maximum point in equal intervals based on the xlen and ylen values."
   ]
  },
  {
   "cell_type": "markdown",
   "metadata": {
    "collapsed": false
   },
   "source": [
    "```python\n",
    "def __create_plane(self, xmin, xmax, xlen, ymin, ymax, ylen):\n",
    "        dx = (xmax - xmin)/(xlen - 1)\n",
    "        dy = (ymax - ymin)/(ylen - 1)\n",
    "        \n",
    "        xpoints = []\n",
    "        ypoints = []\n",
    "        \n",
    "        xpoints.append(xmin)\n",
    "        \n",
    "        for i in range(1, xlen):\n",
    "            xpoints.append(xmin + i*dx)\n",
    "        \n",
    "        ypoints.append(ymin)\n",
    "    \n",
    "        for i in range(1,ylen):\n",
    "            ypoints.append(ymin + i*dy)\n",
    "        plane = []\n",
    "        for x in xpoints:\n",
    "            plane.append([])\n",
    "            for y in ypoints:\n",
    "                plane[-1].append([x + y*1j])\n",
    "        print(plane)\n",
    "        return plane\n",
    "```"
   ]
  },
  {
   "cell_type": "markdown",
   "metadata": {
    "collapsed": false
   },
   "source": [
    "### Tests Performed\n",
    "\n",
    "The test_cplane.py file was created in order to test for success of the cplane.py file. "
   ]
  },
  {
   "cell_type": "markdown",
   "metadata": {
    "collapsed": false
   },
   "source": [
    "```python\n",
    "import cplane\n",
    "\n",
    "def test_cplane():\n",
    "    result=cplane.ListComplexPlane(0,10,2,0,8,2)\n",
    "    correct=[[[0j], [8j]], [[(10+0j)], [(10+8j)]]]\n",
    "    assert result==correct\n",
    "    \n",
    "def f(z):\n",
    "    return z+1\n",
    "    \n",
    "def test_apply():\n",
    "    result=cplane.ListComplexPlane(0,10,2,0,8,2)\n",
    "    correct=[[[0j], [8j]], [[(10+0j)], [(10+8j)]]]\n",
    "    assert result==correct\n",
    "\n",
    "    result1=result.apply(f)\n",
    "    correct1=[[[1+1j], [1+9j]], [[(11+1j)], [(11+9j)]]]\n",
    "    assert result1==correct1\n",
    "```"
   ]
  }
 ],
 "metadata": {
  "kernelspec": {
   "display_name": "Python 3 (Anaconda)",
   "language": "python",
   "name": "anaconda3"
  },
  "language_info": {
   "codemirror_mode": {
    "name": "ipython",
    "version": 3
   },
   "file_extension": ".py",
   "mimetype": "text/x-python",
   "name": "python",
   "nbconvert_exporter": "python",
   "pygments_lexer": "ipython3",
   "version": "3.5.4"
  }
 },
 "nbformat": 4,
 "nbformat_minor": 0
}